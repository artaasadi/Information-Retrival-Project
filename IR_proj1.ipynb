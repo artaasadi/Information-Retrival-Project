{
 "cells": [
  {
   "cell_type": "code",
   "execution_count": 3,
   "metadata": {
    "id": "ZN7mffGfnibq"
   },
   "outputs": [
    {
     "name": "stdout",
     "output_type": "stream",
     "text": [
      "Collecting hazm\n",
      "  Using cached hazm-0.7.0-py3-none-any.whl (316 kB)\n",
      "Collecting nltk==3.3\n",
      "  Using cached nltk-3.3.0.zip (1.4 MB)\n",
      "Requirement already satisfied: six in d:\\users\\asadi\\anaconda3\\lib\\site-packages (from nltk==3.3->hazm) (1.16.0)\n",
      "Building wheels for collected packages: nltk\n",
      "  Building wheel for nltk (setup.py): started\n",
      "  Building wheel for nltk (setup.py): finished with status 'done'\n",
      "  Created wheel for nltk: filename=nltk-3.3-py3-none-any.whl size=1394485 sha256=947b93878c1f3295c5cb20bde8dcb577b409c7de79705a8924558440415d07b7\n",
      "  Stored in directory: c:\\users\\asadi\\appdata\\local\\pip\\cache\\wheels\\ac\\62\\f6\\88933dadcd64a1614894614aa68cf57c4b8e5256acb650b1f1\n",
      "Successfully built nltk\n",
      "Installing collected packages: nltk, hazm\n",
      "  Attempting uninstall: nltk\n",
      "    Found existing installation: nltk 3.6.5\n",
      "    Uninstalling nltk-3.6.5:\n",
      "      Successfully uninstalled nltk-3.6.5\n",
      "Successfully installed hazm-0.7.0 nltk-3.3\n"
     ]
    }
   ],
   "source": [
    "!pip install hazm"
   ]
  },
  {
   "cell_type": "code",
   "execution_count": 50,
   "metadata": {},
   "outputs": [],
   "source": [
    "from hazm import *\n",
    "import re\n",
    "import pandas as pd\n",
    "from tqdm import tqdm\n",
    "import json"
   ]
  },
  {
   "cell_type": "markdown",
   "metadata": {},
   "source": [
    "### Data Preprocess"
   ]
  },
  {
   "cell_type": "code",
   "execution_count": 15,
   "metadata": {
    "id": "h2sz9kiDvbSM"
   },
   "outputs": [],
   "source": [
    "persian = open('persian-stopwords-master/persian', 'r', encoding='utf8')\n",
    "persian = persian.read().split('\\n')\n",
    "verbal = open('persian-stopwords-master/verbal', 'r', encoding='utf8')\n",
    "verbal = verbal.read().split('\\n')\n",
    "nonverbal = open('persian-stopwords-master/nonverbal', 'r', encoding='utf8')\n",
    "nonverbal = nonverbal.read().split('\\n')\n",
    "chars = open('persian-stopwords-master/chars', 'r', encoding='utf8')\n",
    "chars = chars.read().split('\\n')\n",
    "short = open('persian-stopwords-master/short', 'r', encoding='utf8')\n",
    "short = short.read().split('\\n')\n",
    "stop_words = persian + verbal + nonverbal + chars + short"
   ]
  },
  {
   "cell_type": "code",
   "execution_count": 16,
   "metadata": {
    "id": "2RMDNDU4mAwS"
   },
   "outputs": [],
   "source": [
    "def preprocess(text):\n",
    "  text = re.sub(r'http\\S+', '', text)\n",
    "  normalizer = Normalizer()\n",
    "  text = normalizer.normalize(text)\n",
    "  my_tokenizer = WordTokenizer()\n",
    "  text = my_tokenizer.tokenize(text)\n",
    "  text  = [word for word in text if word.lower() not in stop_words]\n",
    "  my_stemmer = Stemmer()\n",
    "  return [my_stemmer.stem(word) for word in text]"
   ]
  },
  {
   "cell_type": "code",
   "execution_count": 35,
   "metadata": {
    "colab": {
     "base_uri": "https://localhost:8080/",
     "height": 398
    },
    "id": "gc9itWToxdkc",
    "outputId": "e90493b6-8f09-4489-956c-61ab9f320b29"
   },
   "outputs": [],
   "source": [
    "try:\n",
    "    data = pd.read_json('preprocessed_data.json')\n",
    "except:\n",
    "    data = pd.read_json('IR_data_news_12k.json').T\n",
    "    for i in tqdm(range(len(data.iloc[:100]))) :\n",
    "      data.iloc[i].content = preprocess(data.iloc[i].content)\n",
    "\n",
    "    data.iloc[:100].to_json('preprocessed_data.json')"
   ]
  },
  {
   "cell_type": "code",
   "execution_count": 36,
   "metadata": {
    "colab": {
     "base_uri": "https://localhost:8080/",
     "height": 423
    },
    "id": "b0M9kL-ObZCG",
    "outputId": "4f67352b-1fa4-4ac7-9f7b-dad0412c81cf"
   },
   "outputs": [
    {
     "data": {
      "text/html": [
       "<div>\n",
       "<style scoped>\n",
       "    .dataframe tbody tr th:only-of-type {\n",
       "        vertical-align: middle;\n",
       "    }\n",
       "\n",
       "    .dataframe tbody tr th {\n",
       "        vertical-align: top;\n",
       "    }\n",
       "\n",
       "    .dataframe thead th {\n",
       "        text-align: right;\n",
       "    }\n",
       "</style>\n",
       "<table border=\"1\" class=\"dataframe\">\n",
       "  <thead>\n",
       "    <tr style=\"text-align: right;\">\n",
       "      <th></th>\n",
       "      <th>title</th>\n",
       "      <th>content</th>\n",
       "      <th>tags</th>\n",
       "      <th>date</th>\n",
       "      <th>url</th>\n",
       "      <th>category</th>\n",
       "    </tr>\n",
       "  </thead>\n",
       "  <tbody>\n",
       "    <tr>\n",
       "      <th>0</th>\n",
       "      <td>اعلام زمان قرعه کشی جام باشگاه های فوتسال آسیا</td>\n",
       "      <td>[گزار, خبرگزار, فارس, کنفدراسیون, فوتبال, آسیا...</td>\n",
       "      <td>[اعلام زمان, قرعه‌کشی, قرعه‌کشی جام, قرعه‌کشی ...</td>\n",
       "      <td>2022-03-15 17:59:27</td>\n",
       "      <td>https://www.farsnews.ir/news/14001224001005/اع...</td>\n",
       "      <td>sports</td>\n",
       "    </tr>\n",
       "    <tr>\n",
       "      <th>1</th>\n",
       "      <td>سجادی :حضور تماشاگران در  لیگ برتر فوتبال تابع...</td>\n",
       "      <td>[گزار, خبرگزار, فارس, سید, حمید, سجاد, حاشیه, ...</td>\n",
       "      <td>[سجادی, لیگ, فدراسیون, وزیر ورزش]</td>\n",
       "      <td>2022-03-15 17:30:07</td>\n",
       "      <td>https://www.farsnews.ir/news/14001224000982/سج...</td>\n",
       "      <td>sports</td>\n",
       "    </tr>\n",
       "    <tr>\n",
       "      <th>2</th>\n",
       "      <td>محل برگزاری نشست‌های خبری سرخابی‌ها؛ مجیدی در ...</td>\n",
       "      <td>[گزار, خبرگزار, فارس, نشس, خبر, مسابقه, سرمرب,...</td>\n",
       "      <td>[دربی 94, محل برگزاری, خبری سرخابی‌ها, مجیدی, ...</td>\n",
       "      <td>2022-03-15 17:20:01</td>\n",
       "      <td>https://www.farsnews.ir/news/14001224000971/مح...</td>\n",
       "      <td>sports</td>\n",
       "    </tr>\n",
       "    <tr>\n",
       "      <th>3</th>\n",
       "      <td>ماجدی در نشست با صالحی امیری: امیدوارم در این ...</td>\n",
       "      <td>[گزار, خبرگزار, فارس, سید, رضا, صالح, امیر, رئ...</td>\n",
       "      <td>[کمیته امداد امام خمینی (ره), کمیته ملی المپیک...</td>\n",
       "      <td>2022-03-15 17:18:00</td>\n",
       "      <td>https://www.farsnews.ir/news/14001224000964/ما...</td>\n",
       "      <td>sports</td>\n",
       "    </tr>\n",
       "    <tr>\n",
       "      <th>4</th>\n",
       "      <td>لیگ‌برتر بسکتبال|‌ نخستین پیروزی شهرداری گرگان...</td>\n",
       "      <td>[گزار, خبرنگار, ورزش, خبرگزار, فارس, باز, مرحل...</td>\n",
       "      <td>[بسکتبال, لیگ برتر بسکتبال, شهرداری گرگان, تیم...</td>\n",
       "      <td>2022-03-15 17:16:41</td>\n",
       "      <td>https://www.farsnews.ir/news/14001224000947/لی...</td>\n",
       "      <td>sports</td>\n",
       "    </tr>\n",
       "    <tr>\n",
       "      <th>...</th>\n",
       "      <td>...</td>\n",
       "      <td>...</td>\n",
       "      <td>...</td>\n",
       "      <td>...</td>\n",
       "      <td>...</td>\n",
       "      <td>...</td>\n",
       "    </tr>\n",
       "    <tr>\n",
       "      <th>95</th>\n",
       "      <td>واکنش اندی ماری به تبعیض نژادی در ورزش</td>\n",
       "      <td>[گزار, خبرگزار, فارس, مسابق, تنیس, ایندین‌ولز,...</td>\n",
       "      <td>[اندی ماری, تنیس, نژادپرستی, تبعیض نژادی]</td>\n",
       "      <td>2022-03-14 09:56:34</td>\n",
       "      <td>https://www.farsnews.ir/news/14001223000168/وا...</td>\n",
       "      <td>sports</td>\n",
       "    </tr>\n",
       "    <tr>\n",
       "      <th>96</th>\n",
       "      <td>دستیاران رحمتی در آلومینیوم اراک مشخص شدند</td>\n",
       "      <td>[گزار, خبرنگار, ورزش, خبرگزار, فارس, سید, مهد,...</td>\n",
       "      <td>[سید مهدی رحمتی, آلومینیوم اراک, اشکان نامداری...</td>\n",
       "      <td>2022-03-14 09:54:47</td>\n",
       "      <td>https://www.farsnews.ir/news/14001223000175/دس...</td>\n",
       "      <td>sports</td>\n",
       "    </tr>\n",
       "    <tr>\n",
       "      <th>97</th>\n",
       "      <td>خط و نشان سرمربی کره جنوبی برای ایران</td>\n",
       "      <td>[گزار, خبرگزار, فارس, ت, مل, فوتبال, کشور, گرو...</td>\n",
       "      <td>[تیم ملی فوتبال ایران, تیم ملی کره جنوبی, خط و...</td>\n",
       "      <td>2022-03-14 09:35:59</td>\n",
       "      <td>https://www.farsnews.ir/news/14001223000149/خط...</td>\n",
       "      <td>sports</td>\n",
       "    </tr>\n",
       "    <tr>\n",
       "      <th>98</th>\n",
       "      <td>ارزیابی عملکرد لژیونرها| حضور کم فروغ آزمون در...</td>\n",
       "      <td>[گزار, خبرگزار, فارس, شب, هفته, ش, رقابت, بوند...</td>\n",
       "      <td>[بوندس‌لیگا, بایرلورکوزن, سردار آزمون, عملکرد ...</td>\n",
       "      <td>2022-03-14 09:19:21</td>\n",
       "      <td>https://www.farsnews.ir/news/14001223000113/ار...</td>\n",
       "      <td>sports</td>\n",
       "    </tr>\n",
       "    <tr>\n",
       "      <th>99</th>\n",
       "      <td>لیگ بسکتبال NBA| شکست سنگین لیکرز مقابل صدرنشین</td>\n",
       "      <td>[گزار, خبرگزار, فارس, ادامه, رقابت, لیگ, بسکتب...</td>\n",
       "      <td>[تیم فینیکس, لس آنجلس لیکرز, فنیکس سانز, لبران...</td>\n",
       "      <td>2022-03-14 09:17:12</td>\n",
       "      <td>https://www.farsnews.ir/news/14001223000136/لی...</td>\n",
       "      <td>sports</td>\n",
       "    </tr>\n",
       "  </tbody>\n",
       "</table>\n",
       "<p>100 rows × 6 columns</p>\n",
       "</div>"
      ],
      "text/plain": [
       "                                                title  \\\n",
       "0      اعلام زمان قرعه کشی جام باشگاه های فوتسال آسیا   \n",
       "1   سجادی :حضور تماشاگران در  لیگ برتر فوتبال تابع...   \n",
       "2   محل برگزاری نشست‌های خبری سرخابی‌ها؛ مجیدی در ...   \n",
       "3   ماجدی در نشست با صالحی امیری: امیدوارم در این ...   \n",
       "4   لیگ‌برتر بسکتبال|‌ نخستین پیروزی شهرداری گرگان...   \n",
       "..                                                ...   \n",
       "95             واکنش اندی ماری به تبعیض نژادی در ورزش   \n",
       "96         دستیاران رحمتی در آلومینیوم اراک مشخص شدند   \n",
       "97              خط و نشان سرمربی کره جنوبی برای ایران   \n",
       "98  ارزیابی عملکرد لژیونرها| حضور کم فروغ آزمون در...   \n",
       "99    لیگ بسکتبال NBA| شکست سنگین لیکرز مقابل صدرنشین   \n",
       "\n",
       "                                              content  \\\n",
       "0   [گزار, خبرگزار, فارس, کنفدراسیون, فوتبال, آسیا...   \n",
       "1   [گزار, خبرگزار, فارس, سید, حمید, سجاد, حاشیه, ...   \n",
       "2   [گزار, خبرگزار, فارس, نشس, خبر, مسابقه, سرمرب,...   \n",
       "3   [گزار, خبرگزار, فارس, سید, رضا, صالح, امیر, رئ...   \n",
       "4   [گزار, خبرنگار, ورزش, خبرگزار, فارس, باز, مرحل...   \n",
       "..                                                ...   \n",
       "95  [گزار, خبرگزار, فارس, مسابق, تنیس, ایندین‌ولز,...   \n",
       "96  [گزار, خبرنگار, ورزش, خبرگزار, فارس, سید, مهد,...   \n",
       "97  [گزار, خبرگزار, فارس, ت, مل, فوتبال, کشور, گرو...   \n",
       "98  [گزار, خبرگزار, فارس, شب, هفته, ش, رقابت, بوند...   \n",
       "99  [گزار, خبرگزار, فارس, ادامه, رقابت, لیگ, بسکتب...   \n",
       "\n",
       "                                                 tags                date  \\\n",
       "0   [اعلام زمان, قرعه‌کشی, قرعه‌کشی جام, قرعه‌کشی ... 2022-03-15 17:59:27   \n",
       "1                   [سجادی, لیگ, فدراسیون, وزیر ورزش] 2022-03-15 17:30:07   \n",
       "2   [دربی 94, محل برگزاری, خبری سرخابی‌ها, مجیدی, ... 2022-03-15 17:20:01   \n",
       "3   [کمیته امداد امام خمینی (ره), کمیته ملی المپیک... 2022-03-15 17:18:00   \n",
       "4   [بسکتبال, لیگ برتر بسکتبال, شهرداری گرگان, تیم... 2022-03-15 17:16:41   \n",
       "..                                                ...                 ...   \n",
       "95          [اندی ماری, تنیس, نژادپرستی, تبعیض نژادی] 2022-03-14 09:56:34   \n",
       "96  [سید مهدی رحمتی, آلومینیوم اراک, اشکان نامداری... 2022-03-14 09:54:47   \n",
       "97  [تیم ملی فوتبال ایران, تیم ملی کره جنوبی, خط و... 2022-03-14 09:35:59   \n",
       "98  [بوندس‌لیگا, بایرلورکوزن, سردار آزمون, عملکرد ... 2022-03-14 09:19:21   \n",
       "99  [تیم فینیکس, لس آنجلس لیکرز, فنیکس سانز, لبران... 2022-03-14 09:17:12   \n",
       "\n",
       "                                                  url category  \n",
       "0   https://www.farsnews.ir/news/14001224001005/اع...   sports  \n",
       "1   https://www.farsnews.ir/news/14001224000982/سج...   sports  \n",
       "2   https://www.farsnews.ir/news/14001224000971/مح...   sports  \n",
       "3   https://www.farsnews.ir/news/14001224000964/ما...   sports  \n",
       "4   https://www.farsnews.ir/news/14001224000947/لی...   sports  \n",
       "..                                                ...      ...  \n",
       "95  https://www.farsnews.ir/news/14001223000168/وا...   sports  \n",
       "96  https://www.farsnews.ir/news/14001223000175/دس...   sports  \n",
       "97  https://www.farsnews.ir/news/14001223000149/خط...   sports  \n",
       "98  https://www.farsnews.ir/news/14001223000113/ار...   sports  \n",
       "99  https://www.farsnews.ir/news/14001223000136/لی...   sports  \n",
       "\n",
       "[100 rows x 6 columns]"
      ]
     },
     "execution_count": 36,
     "metadata": {},
     "output_type": "execute_result"
    }
   ],
   "source": [
    "data"
   ]
  },
  {
   "cell_type": "markdown",
   "metadata": {
    "id": "fYfWJ5NXIXpp"
   },
   "source": [
    "### Inverted Index"
   ]
  },
  {
   "cell_type": "code",
   "execution_count": 55,
   "metadata": {},
   "outputs": [
    {
     "name": "stderr",
     "output_type": "stream",
     "text": [
      "100%|██████████| 100/100 [00:00<00:00, 1519.28it/s]\n"
     ]
    }
   ],
   "source": [
    "try:\n",
    "    json_file = open('inverted_list.json')\n",
    "    inverted_list = json.load(json_file)\n",
    "except:\n",
    "    inverted_list = {}\n",
    "    for i in tqdm(range(len(data))) :\n",
    "        content = data.iloc[i].content\n",
    "        for j in range(len(content)):\n",
    "            if content[j] in inverted_list:\n",
    "                if str(i) in inverted_list[content[j]]:\n",
    "                    inverted_list[content[j]][str(i)].append(j)\n",
    "                else:\n",
    "                    inverted_list[content[j]][str(i)] = [j]\n",
    "            else:\n",
    "                inverted_list[content[j]] = {\n",
    "                    str(i): [j]\n",
    "                }\n",
    "    json_file = open('inverted_list.json', 'w')\n",
    "    json.dump(inverted_list, json_file)"
   ]
  },
  {
   "cell_type": "code",
   "execution_count": null,
   "metadata": {},
   "outputs": [],
   "source": []
  }
 ],
 "metadata": {
  "accelerator": "GPU",
  "colab": {
   "collapsed_sections": [],
   "name": "IR_proj1.ipynb",
   "provenance": []
  },
  "kernelspec": {
   "display_name": "Python 3 (ipykernel)",
   "language": "python",
   "name": "python3"
  },
  "language_info": {
   "codemirror_mode": {
    "name": "ipython",
    "version": 3
   },
   "file_extension": ".py",
   "mimetype": "text/x-python",
   "name": "python",
   "nbconvert_exporter": "python",
   "pygments_lexer": "ipython3",
   "version": "3.9.7"
  }
 },
 "nbformat": 4,
 "nbformat_minor": 1
}
